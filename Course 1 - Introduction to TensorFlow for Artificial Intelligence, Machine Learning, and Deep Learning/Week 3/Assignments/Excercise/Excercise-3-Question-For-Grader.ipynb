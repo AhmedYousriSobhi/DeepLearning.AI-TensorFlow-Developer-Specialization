{
 "cells": [
  {
   "cell_type": "markdown",
   "metadata": {
    "colab_type": "text",
    "id": "iQjHqsmTAVLU"
   },
   "source": [
    "## Exercise 3\n",
    "In the videos you looked at how you would improve Fashion MNIST using Convolutions. For your exercise see if you can improve MNIST to 99.8% accuracy or more using only a single convolutional layer and a single MaxPooling 2D. You should stop training once the accuracy goes above this amount. It should happen in less than 20 epochs, so it's ok to hard code the number of epochs for training, but your training must end once it hits the above metric. If it doesn't, then you'll need to redesign your layers.\n",
    "\n",
    "I've started the code for you -- you need to finish it!\n",
    "\n",
    "When 99.8% accuracy has been hit, you should print out the string \"Reached 99.8% accuracy so cancelling training!\"\n"
   ]
  },
  {
   "cell_type": "code",
   "execution_count": 18,
   "metadata": {},
   "outputs": [],
   "source": [
    "import tensorflow as tf\n",
    "from os import path, getcwd, chdir\n",
    "\n",
    "# DO NOT CHANGE THE LINE BELOW. If you are developing in a local\n",
    "# environment, then grab mnist.npz from the Coursera Jupyter Notebook\n",
    "# and place it inside a local folder and edit the path to that location\n",
    "path = f\"{getcwd()}/../tmp2/mnist.npz\""
   ]
  },
  {
   "cell_type": "code",
   "execution_count": 19,
   "metadata": {},
   "outputs": [],
   "source": [
    "config = tf.ConfigProto()\n",
    "config.gpu_options.allow_growth = True\n",
    "sess = tf.Session(config=config)"
   ]
  },
  {
   "cell_type": "code",
   "execution_count": 20,
   "metadata": {},
   "outputs": [],
   "source": [
    "# GRADED FUNCTION: train_mnist_conv\n",
    "def train_mnist_conv():\n",
    "    # Please write your code only where you are indicated.\n",
    "    # please do not remove model fitting inline comments.\n",
    "\n",
    "    class myCallBack(tf.keras.callbacks.Callback):\n",
    "        def on_epoch_end(self, epoch, logs={}):\n",
    "            print('\\nacc = ', logs.get('acc'))\n",
    "            #print('\\naccuracy = ', logs.get('accuracy'))\n",
    "            if(logs.get('acc')>0.998):\n",
    "                print(\"\\nReached 99.8% accuracy so cancelling training!\")\n",
    "                self.model.stop_training=True\n",
    "    \n",
    "\n",
    "    mnist = tf.keras.datasets.mnist\n",
    "    (training_images, training_labels), (test_images, test_labels) = mnist.load_data(path=path)\n",
    "    \n",
    "    training_images = training_images[:3000]\n",
    "    training_labels = training_labels[:3000]\n",
    "    \n",
    "    training_images = training_images.reshape((3000, 28, 28, 1))\n",
    "    training_images = training_images / 255.0\n",
    "    test_images = test_images.reshape((10000, 28, 28, 1))\n",
    "    test_images = test_images / 255.0\n",
    "    \n",
    "    callback = myCallBack()\n",
    "    \n",
    "    model = tf.keras.models.Sequential([\n",
    "            # Try to simplify the architecture as much as possible. You can reach the target accuracy\n",
    "            # with just a single convolution and max pooling followed by the usual flatten and dense layers.\n",
    "            # If you get grader timeouts in your submission, try to minimize the number of convolution filters \n",
    "            # and dense units.\n",
    "            tf.keras.layers.Conv2D(64, (3,3), activation='relu', input_shape = (28, 28, 1)),\n",
    "            tf.keras.layers.MaxPooling2D(2, 2),\n",
    "            tf.keras.layers.Conv2D(64, (3,3), activation='relu'),\n",
    "            tf.keras.layers.MaxPooling2D(2, 2),\n",
    "            tf.keras.layers.Flatten(),\n",
    "            tf.keras.layers.Dense(512, activation='relu'),\n",
    "            tf.keras.layers.Dense(256, activation='relu'),\n",
    "            tf.keras.layers.Dense(10, activation='sigmoid')      \n",
    "    ])\n",
    "\n",
    "    model.compile(optimizer='adam', loss='sparse_categorical_crossentropy', metrics=['accuracy'])\n",
    "    # model fitting\n",
    "    history = model.fit(\n",
    "        # Remember to set a callback function to stop the training when the target accuracy is reached. \n",
    "        # It should be met in less than 20 epochs.\n",
    "        training_images, training_labels, epochs= 19, callbacks=[callback]\n",
    "    )\n",
    "    # model fitting\n",
    "    return history.epoch, history.history['acc'][-1]\n",
    "\n"
   ]
  },
  {
   "cell_type": "code",
   "execution_count": 21,
   "metadata": {},
   "outputs": [
    {
     "name": "stdout",
     "output_type": "stream",
     "text": [
      "Epoch 1/19\n",
      "2976/3000 [============================>.] - ETA: 0s - loss: 0.7544 - acc: 0.7890\n",
      "acc =  0.79\n",
      "3000/3000 [==============================] - 1s 356us/sample - loss: 0.7499 - acc: 0.7900\n",
      "Epoch 2/19\n",
      "2752/3000 [==========================>...] - ETA: 0s - loss: 0.2110 - acc: 0.9375\n",
      "acc =  0.93833333\n",
      "3000/3000 [==============================] - 1s 236us/sample - loss: 0.2115 - acc: 0.9383\n",
      "Epoch 3/19\n",
      "2944/3000 [============================>.] - ETA: 0s - loss: 0.1180 - acc: 0.9630\n",
      "acc =  0.963\n",
      "3000/3000 [==============================] - 1s 261us/sample - loss: 0.1188 - acc: 0.9630\n",
      "Epoch 4/19\n",
      "2848/3000 [===========================>..] - ETA: 0s - loss: 0.0900 - acc: 0.9716\n",
      "acc =  0.9713333\n",
      "3000/3000 [==============================] - 1s 235us/sample - loss: 0.0897 - acc: 0.9713\n",
      "Epoch 5/19\n",
      "2880/3000 [===========================>..] - ETA: 0s - loss: 0.0582 - acc: 0.9823\n",
      "acc =  0.982\n",
      "3000/3000 [==============================] - 1s 233us/sample - loss: 0.0576 - acc: 0.9820\n",
      "Epoch 6/19\n",
      "2720/3000 [==========================>...] - ETA: 0s - loss: 0.0475 - acc: 0.9838\n",
      "acc =  0.98333335\n",
      "3000/3000 [==============================] - 1s 236us/sample - loss: 0.0491 - acc: 0.9833\n",
      "Epoch 7/19\n",
      "2592/3000 [========================>.....] - ETA: 0s - loss: 0.0308 - acc: 0.9892\n",
      "acc =  0.9903333\n",
      "3000/3000 [==============================] - 1s 259us/sample - loss: 0.0289 - acc: 0.9903\n",
      "Epoch 8/19\n",
      "2816/3000 [===========================>..] - ETA: 0s - loss: 0.0159 - acc: 0.9950\n",
      "acc =  0.9953333\n",
      "3000/3000 [==============================] - 1s 238us/sample - loss: 0.0154 - acc: 0.9953\n",
      "Epoch 9/19\n",
      "2976/3000 [============================>.] - ETA: 0s - loss: 0.0094 - acc: 0.9963\n",
      "acc =  0.99633336\n",
      "3000/3000 [==============================] - 1s 262us/sample - loss: 0.0093 - acc: 0.9963\n",
      "Epoch 10/19\n",
      "2784/3000 [==========================>...] - ETA: 0s - loss: 0.0134 - acc: 0.9950\n",
      "acc =  0.9946667\n",
      "3000/3000 [==============================] - 1s 238us/sample - loss: 0.0155 - acc: 0.9947\n",
      "Epoch 11/19\n",
      "2912/3000 [============================>.] - ETA: 0s - loss: 0.0304 - acc: 0.9900\n",
      "acc =  0.99\n",
      "3000/3000 [==============================] - 1s 262us/sample - loss: 0.0306 - acc: 0.9900\n",
      "Epoch 12/19\n",
      "2816/3000 [===========================>..] - ETA: 0s - loss: 0.0137 - acc: 0.9957\n",
      "acc =  0.996\n",
      "3000/3000 [==============================] - 1s 235us/sample - loss: 0.0132 - acc: 0.9960\n",
      "Epoch 13/19\n",
      "2944/3000 [============================>.] - ETA: 0s - loss: 0.0058 - acc: 0.9983\n",
      "acc =  0.99833333\n",
      "\n",
      "Reached 99.8% accuracy so cancelling training!\n",
      "3000/3000 [==============================] - 1s 263us/sample - loss: 0.0058 - acc: 0.9983\n"
     ]
    }
   ],
   "source": [
    "_, _ = train_mnist_conv()"
   ]
  },
  {
   "cell_type": "code",
   "execution_count": 5,
   "metadata": {},
   "outputs": [
    {
     "data": {
      "text/plain": [
       "0.9992667"
      ]
     },
     "execution_count": 5,
     "metadata": {},
     "output_type": "execute_result"
    }
   ],
   "source": [
    "_"
   ]
  },
  {
   "cell_type": "code",
   "execution_count": null,
   "metadata": {},
   "outputs": [],
   "source": [
    "# Now click the 'Submit Assignment' button above.\n",
    "# Once that is complete, please run the following two cells to save your work and close the notebook"
   ]
  },
  {
   "cell_type": "code",
   "execution_count": null,
   "metadata": {},
   "outputs": [],
   "source": [
    "%%javascript\n",
    "<!-- Save the notebook -->\n",
    "IPython.notebook.save_checkpoint();"
   ]
  },
  {
   "cell_type": "code",
   "execution_count": null,
   "metadata": {},
   "outputs": [],
   "source": [
    "%%javascript\n",
    "IPython.notebook.session.delete();\n",
    "window.onbeforeunload = null\n",
    "setTimeout(function() { window.close(); }, 1000);"
   ]
  }
 ],
 "metadata": {
  "coursera": {
   "course_slug": "introduction-tensorflow",
   "graded_item_id": "ml06H",
   "launcher_item_id": "hQF8A"
  },
  "kernelspec": {
   "display_name": "Python 3",
   "language": "python",
   "name": "python3"
  },
  "language_info": {
   "codemirror_mode": {
    "name": "ipython",
    "version": 3
   },
   "file_extension": ".py",
   "mimetype": "text/x-python",
   "name": "python",
   "nbconvert_exporter": "python",
   "pygments_lexer": "ipython3",
   "version": "3.6.8"
  }
 },
 "nbformat": 4,
 "nbformat_minor": 1
}
