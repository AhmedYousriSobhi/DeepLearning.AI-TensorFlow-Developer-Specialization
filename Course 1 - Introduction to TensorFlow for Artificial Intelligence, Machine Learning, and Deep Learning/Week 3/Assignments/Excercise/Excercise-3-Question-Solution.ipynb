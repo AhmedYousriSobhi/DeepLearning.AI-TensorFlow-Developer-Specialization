{
 "cells": [
  {
   "cell_type": "markdown",
   "metadata": {
    "colab_type": "text",
    "id": "iQjHqsmTAVLU"
   },
   "source": [
    "## Exercise 3\n",
    "In the videos you looked at how you would improve Fashion MNIST using Convolutions. For your exercise see if you can improve MNIST to 99.8% accuracy or more using only a single convolutional layer and a single MaxPooling 2D. You should stop training once the accuracy goes above this amount. It should happen in less than 20 epochs, so it's ok to hard code the number of epochs for training, but your training must end once it hits the above metric. If it doesn't, then you'll need to redesign your layers.\n",
    "\n",
    "I've started the code for you -- you need to finish it!\n",
    "\n",
    "When 99.8% accuracy has been hit, you should print out the string \"Reached 99.8% accuracy so cancelling training!\"\n"
   ]
  },
  {
   "cell_type": "code",
   "execution_count": 1,
   "metadata": {},
   "outputs": [],
   "source": [
    "import tensorflow as tf\n",
    "from os import path, getcwd, chdir\n",
    "\n",
    "# DO NOT CHANGE THE LINE BELOW. If you are developing in a local\n",
    "# environment, then grab mnist.npz from the Coursera Jupyter Notebook\n",
    "# and place it inside a local folder and edit the path to that location\n",
    "path = f\"{getcwd()}/../tmp2/mnist.npz\""
   ]
  },
  {
   "cell_type": "code",
   "execution_count": 2,
   "metadata": {},
   "outputs": [],
   "source": [
    "config = tf.ConfigProto()\n",
    "config.gpu_options.allow_growth = True\n",
    "sess = tf.Session(config=config)"
   ]
  },
  {
   "cell_type": "code",
   "execution_count": 16,
   "metadata": {},
   "outputs": [],
   "source": [
    "# GRADED FUNCTION: train_mnist_conv\n",
    "def train_mnist_conv():\n",
    "    # Please write your code only where you are indicated.\n",
    "    # please do not remove model fitting inline comments.\n",
    "\n",
    "    class myCallBack(tf.keras.callbacks.Callback):\n",
    "        def on_epoch_end(self, epoch, logs={}):\n",
    "            print('\\nacc = ', logs.get('acc'))\n",
    "            #print('\\naccuracy = ', logs.get('accuracy'))\n",
    "            if(logs.get('acc')>0.998):\n",
    "                print(\"\\nReached 99.8% accuracy so cancelling training!\")\n",
    "                self.model.stop_training=True\n",
    "    \n",
    "\n",
    "    mnist = tf.keras.datasets.mnist\n",
    "    (training_images, training_labels), (test_images, test_labels) = mnist.load_data(path=path)\n",
    "    \n",
    "    training_images = training_images.reshape((60000, 28, 28, 1))\n",
    "    training_images = training_images / 255.0\n",
    "    test_images = test_images.reshape((10000, 28, 28, 1))\n",
    "    test_images = test_images / 255.0\n",
    "    \n",
    "    callback = myCallBack()\n",
    "    \n",
    "    model = tf.keras.models.Sequential([\n",
    "            # Try to simplify the architecture as much as possible. You can reach the target accuracy\n",
    "            # with just a single convolution and max pooling followed by the usual flatten and dense layers.\n",
    "            # If you get grader timeouts in your submission, try to minimize the number of convolution filters \n",
    "            # and dense units.\n",
    "            tf.keras.layers.Conv2D(64, (3,3), activation='relu', input_shape = (28, 28, 1)),\n",
    "            tf.keras.layers.MaxPooling2D(2, 2),\n",
    "            tf.keras.layers.Conv2D(64, (3,3), activation='relu'),\n",
    "            tf.keras.layers.MaxPooling2D(2, 2),\n",
    "            tf.keras.layers.Flatten(),\n",
    "            tf.keras.layers.Dense(512, activation='relu'),\n",
    "            tf.keras.layers.Dense(256, activation='relu'),\n",
    "            tf.keras.layers.Dense(10, activation='sigmoid')      \n",
    "    ])\n",
    "\n",
    "    model.compile(optimizer='adam', loss='sparse_categorical_crossentropy', metrics=['accuracy'])\n",
    "    # model fitting\n",
    "    history = model.fit(\n",
    "        # Remember to set a callback function to stop the training when the target accuracy is reached. \n",
    "        # It should be met in less than 20 epochs.\n",
    "        training_images, training_labels, epochs= 19, callbacks=[callback]\n",
    "    )\n",
    "    # model fitting\n",
    "    return history.epoch, history.history['acc'][-1]\n",
    "\n"
   ]
  },
  {
   "cell_type": "code",
   "execution_count": 17,
   "metadata": {},
   "outputs": [
    {
     "name": "stdout",
     "output_type": "stream",
     "text": [
      "Epoch 1/19\n",
      "59840/60000 [============================>.] - ETA: 0s - loss: 0.1266 - acc: 0.9607\n",
      "acc =  0.9608167\n",
      "60000/60000 [==============================] - 16s 259us/sample - loss: 0.1263 - acc: 0.9608\n",
      "Epoch 2/19\n",
      "59936/60000 [============================>.] - ETA: 0s - loss: 0.0447 - acc: 0.9866\n",
      "acc =  0.98658335\n",
      "60000/60000 [==============================] - 15s 253us/sample - loss: 0.0448 - acc: 0.9866\n",
      "Epoch 3/19\n",
      "59808/60000 [============================>.] - ETA: 0s - loss: 0.0323 - acc: 0.9899\n",
      "acc =  0.98995\n",
      "60000/60000 [==============================] - 15s 250us/sample - loss: 0.0322 - acc: 0.9900\n",
      "Epoch 4/19\n",
      "59808/60000 [============================>.] - ETA: 0s - loss: 0.0247 - acc: 0.9930\n",
      "acc =  0.99301666\n",
      "60000/60000 [==============================] - 15s 247us/sample - loss: 0.0246 - acc: 0.9930\n",
      "Epoch 5/19\n",
      "59776/60000 [============================>.] - ETA: 0s - loss: 0.0190 - acc: 0.9943\n",
      "acc =  0.99425\n",
      "60000/60000 [==============================] - 15s 252us/sample - loss: 0.0192 - acc: 0.9942\n",
      "Epoch 6/19\n",
      "59904/60000 [============================>.] - ETA: 0s - loss: 0.0168 - acc: 0.9951\n",
      "acc =  0.9951\n",
      "60000/60000 [==============================] - 17s 291us/sample - loss: 0.0168 - acc: 0.9951\n",
      "Epoch 7/19\n",
      "59680/60000 [============================>.] - ETA: 0s - loss: 0.0129 - acc: 0.9961\n",
      "acc =  0.9961333\n",
      "60000/60000 [==============================] - 18s 295us/sample - loss: 0.0129 - acc: 0.9961\n",
      "Epoch 8/19\n",
      "59840/60000 [============================>.] - ETA: 0s - loss: 0.0112 - acc: 0.9968- ETA: 2s\n",
      "acc =  0.9968167\n",
      "60000/60000 [==============================] - 17s 282us/sample - loss: 0.0112 - acc: 0.9968\n",
      "Epoch 9/19\n",
      "59904/60000 [============================>.] - ETA: 0s - loss: 0.0110 - acc: 0.9972- ETA: 0s - loss: 0.0110 - ac\n",
      "acc =  0.9971833\n",
      "60000/60000 [==============================] - 17s 283us/sample - loss: 0.0110 - acc: 0.9972\n",
      "Epoch 10/19\n",
      "59712/60000 [============================>.] - ETA: 0s - loss: 0.0094 - acc: 0.9975\n",
      "acc =  0.9974833\n",
      "60000/60000 [==============================] - 18s 292us/sample - loss: 0.0095 - acc: 0.9975\n",
      "Epoch 11/19\n",
      "59744/60000 [============================>.] - ETA: 0s - loss: 0.0109 - acc: 0.9974\n",
      "acc =  0.9974\n",
      "60000/60000 [==============================] - 16s 270us/sample - loss: 0.0109 - acc: 0.9974\n",
      "Epoch 12/19\n",
      "59712/60000 [============================>.] - ETA: 0s - loss: 0.0089 - acc: 0.9977\n",
      "acc =  0.99766666\n",
      "60000/60000 [==============================] - 17s 278us/sample - loss: 0.0089 - acc: 0.9977\n",
      "Epoch 13/19\n",
      "59744/60000 [============================>.] - ETA: 0s - loss: 0.0097 - acc: 0.9978\n",
      "acc =  0.99773335\n",
      "60000/60000 [==============================] - 17s 287us/sample - loss: 0.0098 - acc: 0.9977\n",
      "Epoch 14/19\n",
      "59744/60000 [============================>.] - ETA: 0s - loss: 0.0085 - acc: 0.9982\n",
      "acc =  0.9981667\n",
      "\n",
      "Reached 99.8% accuracy so cancelling training!\n",
      "60000/60000 [==============================] - 17s 287us/sample - loss: 0.0085 - acc: 0.9982\n"
     ]
    }
   ],
   "source": [
    "_, _ = train_mnist_conv()"
   ]
  },
  {
   "cell_type": "code",
   "execution_count": 5,
   "metadata": {},
   "outputs": [
    {
     "data": {
      "text/plain": [
       "0.9992667"
      ]
     },
     "execution_count": 5,
     "metadata": {},
     "output_type": "execute_result"
    }
   ],
   "source": [
    "_"
   ]
  },
  {
   "cell_type": "code",
   "execution_count": null,
   "metadata": {},
   "outputs": [],
   "source": [
    "# Now click the 'Submit Assignment' button above.\n",
    "# Once that is complete, please run the following two cells to save your work and close the notebook"
   ]
  },
  {
   "cell_type": "code",
   "execution_count": null,
   "metadata": {},
   "outputs": [],
   "source": [
    "%%javascript\n",
    "<!-- Save the notebook -->\n",
    "IPython.notebook.save_checkpoint();"
   ]
  },
  {
   "cell_type": "code",
   "execution_count": null,
   "metadata": {},
   "outputs": [],
   "source": [
    "%%javascript\n",
    "IPython.notebook.session.delete();\n",
    "window.onbeforeunload = null\n",
    "setTimeout(function() { window.close(); }, 1000);"
   ]
  }
 ],
 "metadata": {
  "coursera": {
   "course_slug": "introduction-tensorflow",
   "graded_item_id": "ml06H",
   "launcher_item_id": "hQF8A"
  },
  "kernelspec": {
   "display_name": "Python 3",
   "language": "python",
   "name": "python3"
  },
  "language_info": {
   "codemirror_mode": {
    "name": "ipython",
    "version": 3
   },
   "file_extension": ".py",
   "mimetype": "text/x-python",
   "name": "python",
   "nbconvert_exporter": "python",
   "pygments_lexer": "ipython3",
   "version": "3.6.8"
  }
 },
 "nbformat": 4,
 "nbformat_minor": 1
}
